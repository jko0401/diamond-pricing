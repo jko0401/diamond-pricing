{
 "cells": [
  {
   "cell_type": "code",
   "execution_count": 240,
   "metadata": {},
   "outputs": [],
   "source": [
    "import pandas as pd\n",
    "import matplotlib.pyplot as plt\n",
    "from mpl_toolkits.mplot3d import Axes3D\n",
    "import seaborn as sns\n",
    "import numpy as np\n",
    "import warnings\n",
    "import dtale\n",
    "\n",
    "from sklearn.preprocessing import StandardScaler\n",
    "from sklearn.preprocessing import OrdinalEncoder\n",
    "from sklearn.metrics import mean_absolute_error\n",
    "from sklearn.metrics import mean_squared_error\n",
    "from sklearn.metrics import r2_score\n",
    "from sklearn.linear_model import LinearRegression\n",
    "from sklearn.ensemble import RandomForestRegressor\n",
    "from sklearn.model_selection import train_test_split\n",
    "from sklearn.model_selection import cross_val_score\n",
    "\n",
    "warnings.filterwarnings('ignore')\n",
    "sns.set(context=\"notebook\", \n",
    "        palette=\"Set1\", \n",
    "        style = 'darkgrid' ,\n",
    "        color_codes=True)\n",
    "%matplotlib inline"
   ]
  },
  {
   "cell_type": "code",
   "execution_count": 158,
   "metadata": {},
   "outputs": [
    {
     "data": {
      "text/html": [
       "<div>\n",
       "<style scoped>\n",
       "    .dataframe tbody tr th:only-of-type {\n",
       "        vertical-align: middle;\n",
       "    }\n",
       "\n",
       "    .dataframe tbody tr th {\n",
       "        vertical-align: top;\n",
       "    }\n",
       "\n",
       "    .dataframe thead th {\n",
       "        text-align: right;\n",
       "    }\n",
       "</style>\n",
       "<table border=\"1\" class=\"dataframe\">\n",
       "  <thead>\n",
       "    <tr style=\"text-align: right;\">\n",
       "      <th></th>\n",
       "      <th>id</th>\n",
       "      <th>detailsPageUrl</th>\n",
       "      <th>carat</th>\n",
       "      <th>date</th>\n",
       "      <th>dateSet</th>\n",
       "      <th>price</th>\n",
       "      <th>strikethroughPrice</th>\n",
       "      <th>pricePerCarat</th>\n",
       "      <th>shapeName</th>\n",
       "      <th>clarity</th>\n",
       "      <th>color</th>\n",
       "      <th>culet</th>\n",
       "      <th>cut</th>\n",
       "      <th>depth</th>\n",
       "      <th>fluorescence</th>\n",
       "      <th>lxwRatio</th>\n",
       "      <th>polish</th>\n",
       "      <th>symmetry</th>\n",
       "      <th>table</th>\n",
       "      <th>measurements</th>\n",
       "    </tr>\n",
       "  </thead>\n",
       "  <tbody>\n",
       "    <tr>\n",
       "      <th>0</th>\n",
       "      <td>LD13346514</td>\n",
       "      <td>./diamond-details/LD13346514</td>\n",
       "      <td>['5.01']</td>\n",
       "      <td>['Jun 24']</td>\n",
       "      <td>['Jun 25']</td>\n",
       "      <td>['$42,001']</td>\n",
       "      <td>NaN</td>\n",
       "      <td>['$8,383']</td>\n",
       "      <td>['Round']</td>\n",
       "      <td>['SI2']</td>\n",
       "      <td>['K']</td>\n",
       "      <td>['None']</td>\n",
       "      <td>Good</td>\n",
       "      <td>['65.2']</td>\n",
       "      <td>['Strong']</td>\n",
       "      <td>['1.00']</td>\n",
       "      <td>['Excellent']</td>\n",
       "      <td>['Very Good']</td>\n",
       "      <td>['54.0']</td>\n",
       "      <td>10.57 x 10.55 x 6.88 mm</td>\n",
       "    </tr>\n",
       "    <tr>\n",
       "      <th>1</th>\n",
       "      <td>LD12736875</td>\n",
       "      <td>./diamond-details/LD12736875</td>\n",
       "      <td>['4.63']</td>\n",
       "      <td>['Jun 24']</td>\n",
       "      <td>['Jun 25']</td>\n",
       "      <td>['$41,019']</td>\n",
       "      <td>NaN</td>\n",
       "      <td>['$8,859']</td>\n",
       "      <td>['Round']</td>\n",
       "      <td>['SI2']</td>\n",
       "      <td>['K']</td>\n",
       "      <td>['Small']</td>\n",
       "      <td>Good</td>\n",
       "      <td>['54.7']</td>\n",
       "      <td>['Strong']</td>\n",
       "      <td>['1.01']</td>\n",
       "      <td>['Good']</td>\n",
       "      <td>['Good']</td>\n",
       "      <td>['64.0']</td>\n",
       "      <td>11.06 x 11.19 x 6.09 mm</td>\n",
       "    </tr>\n",
       "    <tr>\n",
       "      <th>2</th>\n",
       "      <td>LD13529002</td>\n",
       "      <td>./diamond-details/LD13529002</td>\n",
       "      <td>['2.01']</td>\n",
       "      <td>['Jul 24']</td>\n",
       "      <td>['Jul 27']</td>\n",
       "      <td>['$7,731']</td>\n",
       "      <td>NaN</td>\n",
       "      <td>['$3,846']</td>\n",
       "      <td>['Round']</td>\n",
       "      <td>['SI2']</td>\n",
       "      <td>['K']</td>\n",
       "      <td>['None']</td>\n",
       "      <td>Good</td>\n",
       "      <td>['66.0']</td>\n",
       "      <td>['None']</td>\n",
       "      <td>['1.01']</td>\n",
       "      <td>['Very Good']</td>\n",
       "      <td>['Very Good']</td>\n",
       "      <td>['56.0']</td>\n",
       "      <td>7.79 x 7.69 x 5.11 mm</td>\n",
       "    </tr>\n",
       "    <tr>\n",
       "      <th>3</th>\n",
       "      <td>LD12736893</td>\n",
       "      <td>./diamond-details/LD12736893</td>\n",
       "      <td>['1.65']</td>\n",
       "      <td>['Jun 24']</td>\n",
       "      <td>['Jun 25']</td>\n",
       "      <td>['$6,755']</td>\n",
       "      <td>NaN</td>\n",
       "      <td>['$4,094']</td>\n",
       "      <td>['Round']</td>\n",
       "      <td>['SI2']</td>\n",
       "      <td>['K']</td>\n",
       "      <td>['Very Small']</td>\n",
       "      <td>Good</td>\n",
       "      <td>['59.8']</td>\n",
       "      <td>['Medium']</td>\n",
       "      <td>['1.00']</td>\n",
       "      <td>['Good']</td>\n",
       "      <td>['Good']</td>\n",
       "      <td>['52.0']</td>\n",
       "      <td>7.71 x 7.73 x 4.62 mm</td>\n",
       "    </tr>\n",
       "    <tr>\n",
       "      <th>4</th>\n",
       "      <td>LD13814136</td>\n",
       "      <td>./diamond-details/LD13814136</td>\n",
       "      <td>['1.67']</td>\n",
       "      <td>['Jun 24']</td>\n",
       "      <td>['Jun 25']</td>\n",
       "      <td>['$6,156']</td>\n",
       "      <td>NaN</td>\n",
       "      <td>['$3,686']</td>\n",
       "      <td>['Round']</td>\n",
       "      <td>['SI2']</td>\n",
       "      <td>['K']</td>\n",
       "      <td>['None']</td>\n",
       "      <td>Good</td>\n",
       "      <td>['65.4']</td>\n",
       "      <td>['Medium']</td>\n",
       "      <td>['1.01']</td>\n",
       "      <td>['Very Good']</td>\n",
       "      <td>['Very Good']</td>\n",
       "      <td>['59.0']</td>\n",
       "      <td>7.34 x 7.38 x 4.81 mm</td>\n",
       "    </tr>\n",
       "  </tbody>\n",
       "</table>\n",
       "</div>"
      ],
      "text/plain": [
       "           id                detailsPageUrl     carat        date     dateSet  \\\n",
       "0  LD13346514  ./diamond-details/LD13346514  ['5.01']  ['Jun 24']  ['Jun 25']   \n",
       "1  LD12736875  ./diamond-details/LD12736875  ['4.63']  ['Jun 24']  ['Jun 25']   \n",
       "2  LD13529002  ./diamond-details/LD13529002  ['2.01']  ['Jul 24']  ['Jul 27']   \n",
       "3  LD12736893  ./diamond-details/LD12736893  ['1.65']  ['Jun 24']  ['Jun 25']   \n",
       "4  LD13814136  ./diamond-details/LD13814136  ['1.67']  ['Jun 24']  ['Jun 25']   \n",
       "\n",
       "         price  strikethroughPrice pricePerCarat  shapeName  clarity  color  \\\n",
       "0  ['$42,001']                 NaN    ['$8,383']  ['Round']  ['SI2']  ['K']   \n",
       "1  ['$41,019']                 NaN    ['$8,859']  ['Round']  ['SI2']  ['K']   \n",
       "2   ['$7,731']                 NaN    ['$3,846']  ['Round']  ['SI2']  ['K']   \n",
       "3   ['$6,755']                 NaN    ['$4,094']  ['Round']  ['SI2']  ['K']   \n",
       "4   ['$6,156']                 NaN    ['$3,686']  ['Round']  ['SI2']  ['K']   \n",
       "\n",
       "            culet   cut     depth fluorescence  lxwRatio         polish  \\\n",
       "0        ['None']  Good  ['65.2']   ['Strong']  ['1.00']  ['Excellent']   \n",
       "1       ['Small']  Good  ['54.7']   ['Strong']  ['1.01']       ['Good']   \n",
       "2        ['None']  Good  ['66.0']     ['None']  ['1.01']  ['Very Good']   \n",
       "3  ['Very Small']  Good  ['59.8']   ['Medium']  ['1.00']       ['Good']   \n",
       "4        ['None']  Good  ['65.4']   ['Medium']  ['1.01']  ['Very Good']   \n",
       "\n",
       "        symmetry     table             measurements  \n",
       "0  ['Very Good']  ['54.0']  10.57 x 10.55 x 6.88 mm  \n",
       "1       ['Good']  ['64.0']  11.06 x 11.19 x 6.09 mm  \n",
       "2  ['Very Good']  ['56.0']    7.79 x 7.69 x 5.11 mm  \n",
       "3       ['Good']  ['52.0']    7.71 x 7.73 x 4.62 mm  \n",
       "4  ['Very Good']  ['59.0']    7.34 x 7.38 x 4.81 mm  "
      ]
     },
     "execution_count": 158,
     "metadata": {},
     "output_type": "execute_result"
    }
   ],
   "source": [
    "diamond_rd = pd.read_csv('bluenile_diamonds_round.csv')\n",
    "diamond_ov_cu = pd.read_csv('bluenile_diamonds_ov-cu.csv')\n",
    "diamond_df = pd.concat([diamond_rd, diamond_ov_cu])\n",
    "diamond_df.rename(columns={'Unnamed: 0': 'id'}, inplace=True)\n",
    "diamond_df.head()"
   ]
  },
  {
   "cell_type": "code",
   "execution_count": 159,
   "metadata": {},
   "outputs": [],
   "source": [
    "diamond_df = diamond_df.drop(['strikethroughPrice'],axis=1)"
   ]
  },
  {
   "cell_type": "code",
   "execution_count": 160,
   "metadata": {},
   "outputs": [],
   "source": [
    "float_cols = ['carat', 'price', 'pricePerCarat', 'depth', 'lxwRatio', 'table']\n",
    "for col in float_cols:\n",
    "    if col is 'price' or col is 'pricePerCarat':\n",
    "        diamond_df[col] = diamond_df[col].replace(regex={'\\$': '', ',': ''})\n",
    "        diamond_df[col] = diamond_df[col].str.strip('[\\'\\']').astype(float)\n",
    "    else:\n",
    "        diamond_df[col] = diamond_df[col].str.strip('[\\'\\']').astype(float)"
   ]
  },
  {
   "cell_type": "code",
   "execution_count": 161,
   "metadata": {},
   "outputs": [],
   "source": [
    "for col in diamond_df.columns:\n",
    "    if col not in float_cols:\n",
    "        diamond_df[col] = diamond_df[col].str.strip('[\\'\\']')"
   ]
  },
  {
   "cell_type": "code",
   "execution_count": 162,
   "metadata": {},
   "outputs": [],
   "source": [
    "diamond_df['measurements'] = diamond_df['measurements'].str.strip('mm')\n",
    "diamond_df[['measurements', 'width', 'height']] = diamond_df['measurements'].str.split('x', expand=True).astype(float)\n",
    "diamond_df.rename(columns={'measurements': 'length', \n",
    "                           'depth': 'depth%', \n",
    "                           'table': 'table%'}, inplace=True)"
   ]
  },
  {
   "cell_type": "code",
   "execution_count": 163,
   "metadata": {},
   "outputs": [
    {
     "data": {
      "text/html": [
       "<div>\n",
       "<style scoped>\n",
       "    .dataframe tbody tr th:only-of-type {\n",
       "        vertical-align: middle;\n",
       "    }\n",
       "\n",
       "    .dataframe tbody tr th {\n",
       "        vertical-align: top;\n",
       "    }\n",
       "\n",
       "    .dataframe thead th {\n",
       "        text-align: right;\n",
       "    }\n",
       "</style>\n",
       "<table border=\"1\" class=\"dataframe\">\n",
       "  <thead>\n",
       "    <tr style=\"text-align: right;\">\n",
       "      <th></th>\n",
       "      <th>carat</th>\n",
       "      <th>price</th>\n",
       "      <th>shapeName</th>\n",
       "      <th>clarity</th>\n",
       "      <th>origin</th>\n",
       "      <th>color</th>\n",
       "      <th>culet</th>\n",
       "      <th>cut</th>\n",
       "      <th>depth%</th>\n",
       "      <th>fluorescence</th>\n",
       "      <th>lxwRatio</th>\n",
       "      <th>polish</th>\n",
       "      <th>symmetry</th>\n",
       "      <th>table%</th>\n",
       "      <th>length</th>\n",
       "      <th>width</th>\n",
       "      <th>height</th>\n",
       "      <th>pricePerCarat</th>\n",
       "    </tr>\n",
       "  </thead>\n",
       "  <tbody>\n",
       "    <tr>\n",
       "      <th>0</th>\n",
       "      <td>1.00</td>\n",
       "      <td>2630</td>\n",
       "      <td>Round</td>\n",
       "      <td>SI2</td>\n",
       "      <td>Botswana Sort</td>\n",
       "      <td>J</td>\n",
       "      <td>Pointed</td>\n",
       "      <td>Fair</td>\n",
       "      <td>67.3</td>\n",
       "      <td>Faint</td>\n",
       "      <td>1.0</td>\n",
       "      <td>Very Good</td>\n",
       "      <td>Very Good</td>\n",
       "      <td>58.0</td>\n",
       "      <td>6.12</td>\n",
       "      <td>6.02</td>\n",
       "      <td>4.09</td>\n",
       "      <td>2630.000000</td>\n",
       "    </tr>\n",
       "    <tr>\n",
       "      <th>1</th>\n",
       "      <td>1.00</td>\n",
       "      <td>2960</td>\n",
       "      <td>Round</td>\n",
       "      <td>SI2</td>\n",
       "      <td>Russia</td>\n",
       "      <td>J</td>\n",
       "      <td>None</td>\n",
       "      <td>Fair</td>\n",
       "      <td>66.9</td>\n",
       "      <td>None</td>\n",
       "      <td>1.0</td>\n",
       "      <td>Excellent</td>\n",
       "      <td>Good</td>\n",
       "      <td>59.0</td>\n",
       "      <td>6.10</td>\n",
       "      <td>6.04</td>\n",
       "      <td>4.06</td>\n",
       "      <td>2960.000000</td>\n",
       "    </tr>\n",
       "    <tr>\n",
       "      <th>2</th>\n",
       "      <td>1.00</td>\n",
       "      <td>3010</td>\n",
       "      <td>Round</td>\n",
       "      <td>SI2</td>\n",
       "      <td>Botswana Sort</td>\n",
       "      <td>J</td>\n",
       "      <td>None</td>\n",
       "      <td>Fair</td>\n",
       "      <td>69.7</td>\n",
       "      <td>None</td>\n",
       "      <td>1.0</td>\n",
       "      <td>Excellent</td>\n",
       "      <td>Very Good</td>\n",
       "      <td>56.0</td>\n",
       "      <td>6.01</td>\n",
       "      <td>5.99</td>\n",
       "      <td>4.18</td>\n",
       "      <td>3010.000000</td>\n",
       "    </tr>\n",
       "    <tr>\n",
       "      <th>3</th>\n",
       "      <td>1.02</td>\n",
       "      <td>3110</td>\n",
       "      <td>Round</td>\n",
       "      <td>SI2</td>\n",
       "      <td>Botswana Sort</td>\n",
       "      <td>J</td>\n",
       "      <td>None</td>\n",
       "      <td>Fair</td>\n",
       "      <td>70.3</td>\n",
       "      <td>Faint</td>\n",
       "      <td>1.0</td>\n",
       "      <td>Very Good</td>\n",
       "      <td>Very Good</td>\n",
       "      <td>59.0</td>\n",
       "      <td>5.99</td>\n",
       "      <td>5.93</td>\n",
       "      <td>4.19</td>\n",
       "      <td>3049.019608</td>\n",
       "    </tr>\n",
       "    <tr>\n",
       "      <th>4</th>\n",
       "      <td>1.01</td>\n",
       "      <td>3150</td>\n",
       "      <td>Round</td>\n",
       "      <td>SI2</td>\n",
       "      <td>Botswana Sort</td>\n",
       "      <td>J</td>\n",
       "      <td>None</td>\n",
       "      <td>Fair</td>\n",
       "      <td>69.9</td>\n",
       "      <td>Faint</td>\n",
       "      <td>1.0</td>\n",
       "      <td>Very Good</td>\n",
       "      <td>Very Good</td>\n",
       "      <td>58.0</td>\n",
       "      <td>6.00</td>\n",
       "      <td>5.94</td>\n",
       "      <td>4.17</td>\n",
       "      <td>3118.811881</td>\n",
       "    </tr>\n",
       "  </tbody>\n",
       "</table>\n",
       "</div>"
      ],
      "text/plain": [
       "   carat  price shapeName clarity         origin color    culet   cut  depth%  \\\n",
       "0   1.00   2630     Round     SI2  Botswana Sort     J  Pointed  Fair    67.3   \n",
       "1   1.00   2960     Round     SI2         Russia     J     None  Fair    66.9   \n",
       "2   1.00   3010     Round     SI2  Botswana Sort     J     None  Fair    69.7   \n",
       "3   1.02   3110     Round     SI2  Botswana Sort     J     None  Fair    70.3   \n",
       "4   1.01   3150     Round     SI2  Botswana Sort     J     None  Fair    69.9   \n",
       "\n",
       "  fluorescence  lxwRatio     polish   symmetry  table%  length  width  height  \\\n",
       "0        Faint       1.0  Very Good  Very Good    58.0    6.12   6.02    4.09   \n",
       "1         None       1.0  Excellent       Good    59.0    6.10   6.04    4.06   \n",
       "2         None       1.0  Excellent  Very Good    56.0    6.01   5.99    4.18   \n",
       "3        Faint       1.0  Very Good  Very Good    59.0    5.99   5.93    4.19   \n",
       "4        Faint       1.0  Very Good  Very Good    58.0    6.00   5.94    4.17   \n",
       "\n",
       "   pricePerCarat  \n",
       "0    2630.000000  \n",
       "1    2960.000000  \n",
       "2    3010.000000  \n",
       "3    3049.019608  \n",
       "4    3118.811881  "
      ]
     },
     "execution_count": 163,
     "metadata": {},
     "output_type": "execute_result"
    }
   ],
   "source": [
    "diamond_brilliant = pd.read_csv('brilliant_diamonds_rd-ov-cu.csv')\n",
    "diamond_brilliant.head()"
   ]
  },
  {
   "cell_type": "code",
   "execution_count": 164,
   "metadata": {},
   "outputs": [],
   "source": [
    "diamond_df = pd.concat([diamond_df, diamond_brilliant])"
   ]
  },
  {
   "cell_type": "code",
   "execution_count": 165,
   "metadata": {},
   "outputs": [
    {
     "data": {
      "text/html": [
       "\n",
       "        <iframe\n",
       "            width=\"100%\"\n",
       "            height=\"475\"\n",
       "            src=\"http://DESKTOP-FQ0RFPA:40000/dtale/iframe/2\"\n",
       "            frameborder=\"0\"\n",
       "            allowfullscreen\n",
       "        ></iframe>\n",
       "        "
      ],
      "text/plain": [
       "<IPython.lib.display.IFrame at 0x1871537e888>"
      ]
     },
     "metadata": {},
     "output_type": "display_data"
    },
    {
     "data": {
      "text/plain": []
     },
     "execution_count": 165,
     "metadata": {},
     "output_type": "execute_result"
    }
   ],
   "source": [
    "d = dtale.show(diamond_df, ignore_duplicate=True)\n",
    "d"
   ]
  },
  {
   "cell_type": "code",
   "execution_count": 166,
   "metadata": {},
   "outputs": [
    {
     "name": "stdout",
     "output_type": "stream",
     "text": [
      "<class 'pandas.core.frame.DataFrame'>\n",
      "Int64Index: 131549 entries, 0 to 47980\n",
      "Data columns (total 22 columns):\n",
      " #   Column          Non-Null Count   Dtype  \n",
      "---  ------          --------------   -----  \n",
      " 0   id              83568 non-null   object \n",
      " 1   detailsPageUrl  83568 non-null   object \n",
      " 2   carat           131549 non-null  float64\n",
      " 3   date            83568 non-null   object \n",
      " 4   dateSet         83568 non-null   object \n",
      " 5   price           131549 non-null  float64\n",
      " 6   pricePerCarat   131549 non-null  float64\n",
      " 7   shapeName       131549 non-null  object \n",
      " 8   clarity         131549 non-null  object \n",
      " 9   color           131549 non-null  object \n",
      " 10  culet           131250 non-null  object \n",
      " 11  cut             131549 non-null  object \n",
      " 12  depth%          131549 non-null  float64\n",
      " 13  fluorescence    131528 non-null  object \n",
      " 14  lxwRatio        131549 non-null  float64\n",
      " 15  polish          131549 non-null  object \n",
      " 16  symmetry        131549 non-null  object \n",
      " 17  table%          131549 non-null  float64\n",
      " 18  length          131549 non-null  float64\n",
      " 19  width           131549 non-null  float64\n",
      " 20  height          131549 non-null  float64\n",
      " 21  origin          47981 non-null   object \n",
      "dtypes: float64(9), object(13)\n",
      "memory usage: 23.1+ MB\n"
     ]
    }
   ],
   "source": [
    "diamond_df.info()"
   ]
  },
  {
   "cell_type": "markdown",
   "metadata": {},
   "source": [
    "<img src=\"files/diamond_shapes-1024x506.jpg\" width=40% height=auto>\n",
    "\n"
   ]
  },
  {
   "cell_type": "markdown",
   "metadata": {},
   "source": [
    "<img src=\"files/diamond-clarity-scale.png\" width=40% height=auto>\n"
   ]
  },
  {
   "cell_type": "markdown",
   "metadata": {},
   "source": [
    "<img src=\"files/diamond-color-scale.webp\" width=50% height=auto>\n"
   ]
  },
  {
   "cell_type": "markdown",
   "metadata": {},
   "source": [
    "<img src=\"files/side_dimensions.jpg\" width=20% height=auto>\n",
    "<img src=\"files/top_dimensions.jpg\" width=20% height=auto>\n"
   ]
  },
  {
   "cell_type": "code",
   "execution_count": 170,
   "metadata": {},
   "outputs": [
    {
     "data": {
      "text/html": [
       "<div>\n",
       "<style scoped>\n",
       "    .dataframe tbody tr th:only-of-type {\n",
       "        vertical-align: middle;\n",
       "    }\n",
       "\n",
       "    .dataframe tbody tr th {\n",
       "        vertical-align: top;\n",
       "    }\n",
       "\n",
       "    .dataframe thead th {\n",
       "        text-align: right;\n",
       "    }\n",
       "</style>\n",
       "<table border=\"1\" class=\"dataframe\">\n",
       "  <thead>\n",
       "    <tr style=\"text-align: right;\">\n",
       "      <th></th>\n",
       "      <th>carat</th>\n",
       "      <th>price</th>\n",
       "      <th>pricePerCarat</th>\n",
       "      <th>depth%</th>\n",
       "      <th>lxwRatio</th>\n",
       "      <th>table%</th>\n",
       "      <th>length</th>\n",
       "      <th>width</th>\n",
       "      <th>height</th>\n",
       "    </tr>\n",
       "  </thead>\n",
       "  <tbody>\n",
       "    <tr>\n",
       "      <th>count</th>\n",
       "      <td>131549.000000</td>\n",
       "      <td>1.315490e+05</td>\n",
       "      <td>131549.000000</td>\n",
       "      <td>131549.000000</td>\n",
       "      <td>131549.000000</td>\n",
       "      <td>131549.000000</td>\n",
       "      <td>131549.000000</td>\n",
       "      <td>131549.000000</td>\n",
       "      <td>131549.000000</td>\n",
       "    </tr>\n",
       "    <tr>\n",
       "      <th>mean</th>\n",
       "      <td>0.931217</td>\n",
       "      <td>6.654813e+03</td>\n",
       "      <td>4706.888731</td>\n",
       "      <td>62.593507</td>\n",
       "      <td>1.042809</td>\n",
       "      <td>58.232931</td>\n",
       "      <td>6.051990</td>\n",
       "      <td>5.821978</td>\n",
       "      <td>3.647891</td>\n",
       "    </tr>\n",
       "    <tr>\n",
       "      <th>std</th>\n",
       "      <td>0.732265</td>\n",
       "      <td>2.223962e+04</td>\n",
       "      <td>3854.731736</td>\n",
       "      <td>2.588896</td>\n",
       "      <td>0.115943</td>\n",
       "      <td>2.232120</td>\n",
       "      <td>1.403334</td>\n",
       "      <td>1.229331</td>\n",
       "      <td>0.774271</td>\n",
       "    </tr>\n",
       "    <tr>\n",
       "      <th>min</th>\n",
       "      <td>0.230000</td>\n",
       "      <td>2.420000e+02</td>\n",
       "      <td>803.000000</td>\n",
       "      <td>52.600000</td>\n",
       "      <td>1.000000</td>\n",
       "      <td>48.000000</td>\n",
       "      <td>3.730000</td>\n",
       "      <td>3.320000</td>\n",
       "      <td>0.170000</td>\n",
       "    </tr>\n",
       "    <tr>\n",
       "      <th>25%</th>\n",
       "      <td>0.500000</td>\n",
       "      <td>1.193000e+03</td>\n",
       "      <td>2580.000000</td>\n",
       "      <td>61.600000</td>\n",
       "      <td>1.000000</td>\n",
       "      <td>57.000000</td>\n",
       "      <td>5.030000</td>\n",
       "      <td>4.910000</td>\n",
       "      <td>3.080000</td>\n",
       "    </tr>\n",
       "    <tr>\n",
       "      <th>50%</th>\n",
       "      <td>0.750000</td>\n",
       "      <td>2.770000e+03</td>\n",
       "      <td>3692.000000</td>\n",
       "      <td>62.500000</td>\n",
       "      <td>1.010000</td>\n",
       "      <td>58.000000</td>\n",
       "      <td>5.910000</td>\n",
       "      <td>5.670000</td>\n",
       "      <td>3.570000</td>\n",
       "    </tr>\n",
       "    <tr>\n",
       "      <th>75%</th>\n",
       "      <td>1.080000</td>\n",
       "      <td>6.403000e+03</td>\n",
       "      <td>5693.333333</td>\n",
       "      <td>63.200000</td>\n",
       "      <td>1.010000</td>\n",
       "      <td>59.000000</td>\n",
       "      <td>6.710000</td>\n",
       "      <td>6.480000</td>\n",
       "      <td>4.040000</td>\n",
       "    </tr>\n",
       "    <tr>\n",
       "      <th>max</th>\n",
       "      <td>20.980000</td>\n",
       "      <td>2.325535e+06</td>\n",
       "      <td>137769.000000</td>\n",
       "      <td>629.000000</td>\n",
       "      <td>2.180000</td>\n",
       "      <td>69.000000</td>\n",
       "      <td>20.970000</td>\n",
       "      <td>17.840000</td>\n",
       "      <td>10.900000</td>\n",
       "    </tr>\n",
       "  </tbody>\n",
       "</table>\n",
       "</div>"
      ],
      "text/plain": [
       "               carat         price  pricePerCarat         depth%  \\\n",
       "count  131549.000000  1.315490e+05  131549.000000  131549.000000   \n",
       "mean        0.931217  6.654813e+03    4706.888731      62.593507   \n",
       "std         0.732265  2.223962e+04    3854.731736       2.588896   \n",
       "min         0.230000  2.420000e+02     803.000000      52.600000   \n",
       "25%         0.500000  1.193000e+03    2580.000000      61.600000   \n",
       "50%         0.750000  2.770000e+03    3692.000000      62.500000   \n",
       "75%         1.080000  6.403000e+03    5693.333333      63.200000   \n",
       "max        20.980000  2.325535e+06  137769.000000     629.000000   \n",
       "\n",
       "            lxwRatio         table%         length          width  \\\n",
       "count  131549.000000  131549.000000  131549.000000  131549.000000   \n",
       "mean        1.042809      58.232931       6.051990       5.821978   \n",
       "std         0.115943       2.232120       1.403334       1.229331   \n",
       "min         1.000000      48.000000       3.730000       3.320000   \n",
       "25%         1.000000      57.000000       5.030000       4.910000   \n",
       "50%         1.010000      58.000000       5.910000       5.670000   \n",
       "75%         1.010000      59.000000       6.710000       6.480000   \n",
       "max         2.180000      69.000000      20.970000      17.840000   \n",
       "\n",
       "              height  \n",
       "count  131549.000000  \n",
       "mean        3.647891  \n",
       "std         0.774271  \n",
       "min         0.170000  \n",
       "25%         3.080000  \n",
       "50%         3.570000  \n",
       "75%         4.040000  \n",
       "max        10.900000  "
      ]
     },
     "execution_count": 170,
     "metadata": {},
     "output_type": "execute_result"
    }
   ],
   "source": [
    "diamond_df.describe()"
   ]
  },
  {
   "cell_type": "code",
   "execution_count": 171,
   "metadata": {},
   "outputs": [
    {
     "data": {
      "image/png": "[encoded data removed]",
      "text/plain": [
       "<Figure size 1440x1440 with 9 Axes>"
      ]
     },
     "metadata": {
      "needs_background": "light"
     },
     "output_type": "display_data"
    }
   ],
   "source": [
    "p = diamond_df.hist(figsize = (20,20),bins=150)"
   ]
  },
  {
   "cell_type": "code",
   "execution_count": 212,
   "metadata": {},
   "outputs": [
    {
     "data": {
      "image/png": "[encoded data removed]",
      "text/plain": [
       "<Figure size 1440x1440 with 1 Axes>"
      ]
     },
     "metadata": {
      "needs_background": "light"
     },
     "output_type": "display_data"
    }
   ],
   "source": [
    "p = diamond_df['price'][diamond_df['price'] < 20000].hist(figsize = (20,20),bins=40)"
   ]
  },
  {
   "cell_type": "code",
   "execution_count": 213,
   "metadata": {},
   "outputs": [
    {
     "data": {
      "image/png": "[encoded data removed]",
      "text/plain": [
       "<Figure size 432x288 with 1 Axes>"
      ]
     },
     "metadata": {
      "needs_background": "light"
     },
     "output_type": "display_data"
    }
   ],
   "source": [
    "p=sns.scatterplot(x='carat', y='price', data=diamond_df[(diamond_df['shapeName'] == 'Round')\n",
    "                                                        & (diamond_df['carat'] < 5)])"
   ]
  },
  {
   "cell_type": "code",
   "execution_count": 172,
   "metadata": {
    "scrolled": false
   },
   "outputs": [
    {
     "data": {
      "image/png": "[encoded data removed]",
      "text/plain": [
       "<Figure size 900x360 with 1 Axes>"
      ]
     },
     "metadata": {
      "needs_background": "light"
     },
     "output_type": "display_data"
    }
   ],
   "source": [
    "p = sns.factorplot(x='shapeName', data=diamond_df , kind='count',aspect=2.5 )"
   ]
  },
  {
   "cell_type": "code",
   "execution_count": 173,
   "metadata": {},
   "outputs": [
    {
     "data": {
      "image/png": "[encoded data removed]",
      "text/plain": [
       "<Figure size 900x360 with 1 Axes>"
      ]
     },
     "metadata": {
      "needs_background": "light"
     },
     "output_type": "display_data"
    }
   ],
   "source": [
    "p = sns.factorplot(x='cut', data=diamond_df , kind='count',aspect=2.5 )"
   ]
  },
  {
   "cell_type": "code",
   "execution_count": 201,
   "metadata": {},
   "outputs": [],
   "source": [
    "diamond_df['cut'] = diamond_df['cut'].str.replace('Astor Ideal', 'Super Ideal')"
   ]
  },
  {
   "cell_type": "code",
   "execution_count": 174,
   "metadata": {},
   "outputs": [
    {
     "data": {
      "image/png": "[encoded data removed]",
      "text/plain": [
       "<Figure size 900x360 with 1 Axes>"
      ]
     },
     "metadata": {
      "needs_background": "light"
     },
     "output_type": "display_data"
    }
   ],
   "source": [
    "p = sns.factorplot(x='color', data=diamond_df , kind='count',aspect=2.5 )"
   ]
  },
  {
   "cell_type": "code",
   "execution_count": 175,
   "metadata": {},
   "outputs": [
    {
     "data": {
      "image/png": "[encoded data removed]",
      "text/plain": [
       "<Figure size 900x360 with 1 Axes>"
      ]
     },
     "metadata": {
      "needs_background": "light"
     },
     "output_type": "display_data"
    }
   ],
   "source": [
    "p = sns.factorplot(x='clarity', data=diamond_df , kind='count',aspect=2.5 )"
   ]
  },
  {
   "cell_type": "code",
   "execution_count": 176,
   "metadata": {},
   "outputs": [
    {
     "data": {
      "image/png": "[encoded data removed]",
      "text/plain": [
       "<Figure size 900x360 with 1 Axes>"
      ]
     },
     "metadata": {
      "needs_background": "light"
     },
     "output_type": "display_data"
    }
   ],
   "source": [
    "p = sns.factorplot(x='color', \n",
    "                   y='price', \n",
    "                   data=diamond_df[(diamond_df['shapeName'] == 'Round') \n",
    "                                   & (diamond_df['carat'] < 5)\n",
    "                                   & (diamond_df['price'] < 20000)], \n",
    "                                   kind='box',\n",
    "                                   aspect=2.5)"
   ]
  },
  {
   "cell_type": "code",
   "execution_count": 177,
   "metadata": {},
   "outputs": [
    {
     "data": {
      "image/png": "[encoded data removed]",
      "text/plain": [
       "<Figure size 900x360 with 1 Axes>"
      ]
     },
     "metadata": {
      "needs_background": "light"
     },
     "output_type": "display_data"
    },
    {
     "name": "stdout",
     "output_type": "stream",
     "text": [
      "Executing shutdown due to inactivity...\n",
      "Executing shutdown due to inactivity...\n"
     ]
    },
    {
     "name": "stderr",
     "output_type": "stream",
     "text": [
      "2020-06-13 15:33:22,947 - INFO     - Executing shutdown due to inactivity...\n"
     ]
    },
    {
     "name": "stdout",
     "output_type": "stream",
     "text": [
      "Executing shutdown...\n",
      "Executing shutdown...\n"
     ]
    },
    {
     "name": "stderr",
     "output_type": "stream",
     "text": [
      "2020-06-13 15:33:27,024 - INFO     - Executing shutdown...\n"
     ]
    }
   ],
   "source": [
    "p = sns.factorplot(x='clarity', \n",
    "                   y='price', \n",
    "                   data=diamond_df[(diamond_df['shapeName'] == 'Round') \n",
    "                                   & (diamond_df['carat'] < 5)\n",
    "                                   & (diamond_df['price'] < 20000)], \n",
    "                                   kind='box',\n",
    "                                   aspect=2.5)"
   ]
  },
  {
   "cell_type": "code",
   "execution_count": 285,
   "metadata": {},
   "outputs": [],
   "source": [
    "diamond_df_temp = diamond_df.dropna()\n",
    "botswana = diamond_df_temp[diamond_df_temp['origin'].str.contains('Botswana Sort')]\n",
    "russia = diamond_df_temp[diamond_df_temp['origin'].str.contains('Russia')]\n",
    "recycled = diamond_df_temp[diamond_df_temp['origin'].str.contains('Recycled')]\n",
    "canada = diamond_df_temp[diamond_df_temp['origin'].str.contains('Canada')]"
   ]
  },
  {
   "cell_type": "code",
   "execution_count": 289,
   "metadata": {},
   "outputs": [
    {
     "data": {
      "text/html": [
       "<div>\n",
       "<style scoped>\n",
       "    .dataframe tbody tr th:only-of-type {\n",
       "        vertical-align: middle;\n",
       "    }\n",
       "\n",
       "    .dataframe tbody tr th {\n",
       "        vertical-align: top;\n",
       "    }\n",
       "\n",
       "    .dataframe thead th {\n",
       "        text-align: right;\n",
       "    }\n",
       "</style>\n",
       "<table border=\"1\" class=\"dataframe\">\n",
       "  <thead>\n",
       "    <tr style=\"text-align: right;\">\n",
       "      <th></th>\n",
       "      <th>carat</th>\n",
       "      <th>price</th>\n",
       "      <th>pricePerCarat</th>\n",
       "      <th>depth%</th>\n",
       "      <th>lxwRatio</th>\n",
       "      <th>table%</th>\n",
       "      <th>length</th>\n",
       "      <th>width</th>\n",
       "      <th>height</th>\n",
       "    </tr>\n",
       "  </thead>\n",
       "  <tbody>\n",
       "    <tr>\n",
       "      <th>count</th>\n",
       "      <td>0.0</td>\n",
       "      <td>0.0</td>\n",
       "      <td>0.0</td>\n",
       "      <td>0.0</td>\n",
       "      <td>0.0</td>\n",
       "      <td>0.0</td>\n",
       "      <td>0.0</td>\n",
       "      <td>0.0</td>\n",
       "      <td>0.0</td>\n",
       "    </tr>\n",
       "    <tr>\n",
       "      <th>mean</th>\n",
       "      <td>NaN</td>\n",
       "      <td>NaN</td>\n",
       "      <td>NaN</td>\n",
       "      <td>NaN</td>\n",
       "      <td>NaN</td>\n",
       "      <td>NaN</td>\n",
       "      <td>NaN</td>\n",
       "      <td>NaN</td>\n",
       "      <td>NaN</td>\n",
       "    </tr>\n",
       "    <tr>\n",
       "      <th>std</th>\n",
       "      <td>NaN</td>\n",
       "      <td>NaN</td>\n",
       "      <td>NaN</td>\n",
       "      <td>NaN</td>\n",
       "      <td>NaN</td>\n",
       "      <td>NaN</td>\n",
       "      <td>NaN</td>\n",
       "      <td>NaN</td>\n",
       "      <td>NaN</td>\n",
       "    </tr>\n",
       "    <tr>\n",
       "      <th>min</th>\n",
       "      <td>NaN</td>\n",
       "      <td>NaN</td>\n",
       "      <td>NaN</td>\n",
       "      <td>NaN</td>\n",
       "      <td>NaN</td>\n",
       "      <td>NaN</td>\n",
       "      <td>NaN</td>\n",
       "      <td>NaN</td>\n",
       "      <td>NaN</td>\n",
       "    </tr>\n",
       "    <tr>\n",
       "      <th>25%</th>\n",
       "      <td>NaN</td>\n",
       "      <td>NaN</td>\n",
       "      <td>NaN</td>\n",
       "      <td>NaN</td>\n",
       "      <td>NaN</td>\n",
       "      <td>NaN</td>\n",
       "      <td>NaN</td>\n",
       "      <td>NaN</td>\n",
       "      <td>NaN</td>\n",
       "    </tr>\n",
       "    <tr>\n",
       "      <th>50%</th>\n",
       "      <td>NaN</td>\n",
       "      <td>NaN</td>\n",
       "      <td>NaN</td>\n",
       "      <td>NaN</td>\n",
       "      <td>NaN</td>\n",
       "      <td>NaN</td>\n",
       "      <td>NaN</td>\n",
       "      <td>NaN</td>\n",
       "      <td>NaN</td>\n",
       "    </tr>\n",
       "    <tr>\n",
       "      <th>75%</th>\n",
       "      <td>NaN</td>\n",
       "      <td>NaN</td>\n",
       "      <td>NaN</td>\n",
       "      <td>NaN</td>\n",
       "      <td>NaN</td>\n",
       "      <td>NaN</td>\n",
       "      <td>NaN</td>\n",
       "      <td>NaN</td>\n",
       "      <td>NaN</td>\n",
       "    </tr>\n",
       "    <tr>\n",
       "      <th>max</th>\n",
       "      <td>NaN</td>\n",
       "      <td>NaN</td>\n",
       "      <td>NaN</td>\n",
       "      <td>NaN</td>\n",
       "      <td>NaN</td>\n",
       "      <td>NaN</td>\n",
       "      <td>NaN</td>\n",
       "      <td>NaN</td>\n",
       "      <td>NaN</td>\n",
       "    </tr>\n",
       "  </tbody>\n",
       "</table>\n",
       "</div>"
      ],
      "text/plain": [
       "       carat  price  pricePerCarat  depth%  lxwRatio  table%  length  width  \\\n",
       "count    0.0    0.0            0.0     0.0       0.0     0.0     0.0    0.0   \n",
       "mean     NaN    NaN            NaN     NaN       NaN     NaN     NaN    NaN   \n",
       "std      NaN    NaN            NaN     NaN       NaN     NaN     NaN    NaN   \n",
       "min      NaN    NaN            NaN     NaN       NaN     NaN     NaN    NaN   \n",
       "25%      NaN    NaN            NaN     NaN       NaN     NaN     NaN    NaN   \n",
       "50%      NaN    NaN            NaN     NaN       NaN     NaN     NaN    NaN   \n",
       "75%      NaN    NaN            NaN     NaN       NaN     NaN     NaN    NaN   \n",
       "max      NaN    NaN            NaN     NaN       NaN     NaN     NaN    NaN   \n",
       "\n",
       "       height  \n",
       "count     0.0  \n",
       "mean      NaN  \n",
       "std       NaN  \n",
       "min       NaN  \n",
       "25%       NaN  \n",
       "50%       NaN  \n",
       "75%       NaN  \n",
       "max       NaN  "
      ]
     },
     "execution_count": 289,
     "metadata": {},
     "output_type": "execute_result"
    }
   ],
   "source": [
    "canada.describe()"
   ]
  },
  {
   "cell_type": "code",
   "execution_count": 373,
   "metadata": {},
   "outputs": [],
   "source": [
    "diamond_df_filtered = diamond_df[['carat', 'price', 'shapeName', 'clarity',\n",
    "                                  'color', 'culet', 'cut', 'fluorescence', 'polish', 'symmetry']]\n",
    "diamond_df_filtered = diamond_df_filtered[diamond_df_filtered['shapeName'].str.contains('Round')]\n",
    "diamond_df_filtered = diamond_df_filtered.drop(['shapeName'],axis=1)\n",
    "diamond_df_filtered.dropna(inplace=True)"
   ]
  },
  {
   "cell_type": "code",
   "execution_count": 374,
   "metadata": {},
   "outputs": [
    {
     "data": {
      "text/plain": [
       "array(['None', 'Small', 'Very Small', 'Medium', 'Pointed', 'A', 'SL',\n",
       "       'SMALL FACETED', 'Nonee', 'NATURAL', 'POLISHED', 'S. FACETED',\n",
       "       ' Faceted'], dtype=object)"
      ]
     },
     "execution_count": 374,
     "metadata": {},
     "output_type": "execute_result"
    }
   ],
   "source": [
    "diamond_df_filtered['culet'].unique()"
   ]
  },
  {
   "cell_type": "code",
   "execution_count": 375,
   "metadata": {},
   "outputs": [
    {
     "name": "stdout",
     "output_type": "stream",
     "text": [
      "Number of rows with Pointed in culet column: 2605 \n",
      "Number of rows with SL in culet column: 10 \n",
      "Number of rows with A in culet column: 31 \n",
      "Number of rows with NATURAL in culet column: 3 \n",
      "Number of rows with POLISHED in culet column: 1 \n",
      "Number of rows with Faceted in culet column: 1 \n"
     ]
    }
   ],
   "source": [
    "print(\"Number of rows with Pointed in culet column: {} \".format((diamond_df_filtered['culet'].str.contains('Pointed')).sum()))\n",
    "print(\"Number of rows with SL in culet column: {} \".format((diamond_df_filtered['culet'].str.contains('SL')).sum()))\n",
    "print(\"Number of rows with A in culet column: {} \".format((diamond_df_filtered['culet'].str.contains('A')).sum()))\n",
    "print(\"Number of rows with NATURAL in culet column: {} \".format((diamond_df_filtered['culet'].str.contains('NATURAL')).sum()))\n",
    "print(\"Number of rows with POLISHED in culet column: {} \".format((diamond_df_filtered['culet'].str.contains('POLISHED')).sum()))\n",
    "print(\"Number of rows with Faceted in culet column: {} \".format((diamond_df_filtered['culet'].str.contains('Faceted')).sum()))\n"
   ]
  },
  {
   "cell_type": "code",
   "execution_count": 376,
   "metadata": {},
   "outputs": [
    {
     "data": {
      "text/plain": [
       "array(['None', 'Small', 'Very Small', 'Medium', 'Slightly Large'],\n",
       "      dtype=object)"
      ]
     },
     "execution_count": 376,
     "metadata": {},
     "output_type": "execute_result"
    }
   ],
   "source": [
    "diamond_df_filtered['culet'] = diamond_df_filtered['culet'].str.replace('Nonee', 'None')\n",
    "diamond_df_filtered['culet'] = diamond_df_filtered['culet'].str.replace('Pointed', 'None')\n",
    "diamond_df_filtered['culet'] = diamond_df_filtered['culet'].str.replace('SL', 'Slightly Large')\n",
    "diamond_df_filtered = diamond_df_filtered[~diamond_df_filtered['culet'].isin(['A', 'SMALL FACETED','NATURAL', 'POLISHED', 'S. FACETED', ' Faceted'])]\n",
    "diamond_df_filtered['culet'].unique()"
   ]
  },
  {
   "cell_type": "code",
   "execution_count": 377,
   "metadata": {},
   "outputs": [
    {
     "data": {
      "text/plain": [
       "array(['Strong', 'None', 'Medium', 'Faint', 'Medium Blue', 'Strong Blue',\n",
       "       'Very Strong Blue', 'Very Strong', 'Medium Yellow',\n",
       "       'Strong Yellow', 'Slight', 'Very Slight'], dtype=object)"
      ]
     },
     "execution_count": 377,
     "metadata": {},
     "output_type": "execute_result"
    }
   ],
   "source": [
    "diamond_df_filtered['fluorescence'].unique()"
   ]
  },
  {
   "cell_type": "code",
   "execution_count": 378,
   "metadata": {},
   "outputs": [
    {
     "data": {
      "text/plain": [
       "array(['Strong', 'None', 'Medium', 'Faint', 'Very Strong', 'Slight'],\n",
       "      dtype=object)"
      ]
     },
     "execution_count": 378,
     "metadata": {},
     "output_type": "execute_result"
    }
   ],
   "source": [
    "diamond_df_filtered['fluorescence'] = diamond_df_filtered['fluorescence'].str.replace('Very Slight', 'Faint')\n",
    "diamond_df_filtered['fluorescence'] = diamond_df_filtered['fluorescence'].str.strip(' Blue')\n",
    "diamond_df_filtered['fluorescence'] = diamond_df_filtered['fluorescence'].str.strip(' Yellow')\n",
    "diamond_df_filtered['fluorescence'] = diamond_df_filtered['fluorescence'].str.replace('Non', 'None')\n",
    "diamond_df_filtered['fluorescence'].unique()"
   ]
  },
  {
   "cell_type": "code",
   "execution_count": 379,
   "metadata": {},
   "outputs": [
    {
     "data": {
      "text/plain": [
       "array(['Excellent', 'Good', 'Very Good', 'Fair'], dtype=object)"
      ]
     },
     "execution_count": 379,
     "metadata": {},
     "output_type": "execute_result"
    }
   ],
   "source": [
    "diamond_df_filtered['polish'].unique()"
   ]
  },
  {
   "cell_type": "code",
   "execution_count": 380,
   "metadata": {},
   "outputs": [
    {
     "data": {
      "text/plain": [
       "array(['Very Good', 'Good', 'Excellent', 'Fair'], dtype=object)"
      ]
     },
     "execution_count": 380,
     "metadata": {},
     "output_type": "execute_result"
    }
   ],
   "source": [
    "diamond_df_filtered['symmetry'].unique()"
   ]
  },
  {
   "cell_type": "code",
   "execution_count": 381,
   "metadata": {},
   "outputs": [],
   "source": [
    "culet_order = ['Slightly Large', 'Medium', 'Small', 'Very Small', 'None']\n",
    "fluorescence_order = ['Very Strong', 'Strong', 'Medium', 'Slight', 'Faint', 'None']\n",
    "polish_order = ['Fair', 'Good', 'Very Good', 'Excellent']\n",
    "symmetry_order = ['Fair', 'Good', 'Very Good', 'Excellent']\n",
    "cut_order = ['Fair', 'Good', 'Very Good', 'Ideal', 'Super Ideal']\n",
    "color_order = ['K', 'J', 'I', 'H', 'G', 'F', 'E', 'D']\n",
    "clarity_order = ['SI2', 'SI1', 'VS2', 'VS1', 'VVS2', 'VVS1', 'IF', 'FL']\n",
    "ordinal_cols = ['culet', 'fluorescence', 'polish', 'symmetry', 'cut', 'color', 'clarity']\n",
    "ordinal_orders = [culet_order, fluorescence_order, polish_order, symmetry_order, cut_order, \n",
    "                 color_order, clarity_order]"
   ]
  },
  {
   "cell_type": "code",
   "execution_count": 382,
   "metadata": {},
   "outputs": [
    {
     "data": {
      "text/html": [
       "<div>\n",
       "<style scoped>\n",
       "    .dataframe tbody tr th:only-of-type {\n",
       "        vertical-align: middle;\n",
       "    }\n",
       "\n",
       "    .dataframe tbody tr th {\n",
       "        vertical-align: top;\n",
       "    }\n",
       "\n",
       "    .dataframe thead th {\n",
       "        text-align: right;\n",
       "    }\n",
       "</style>\n",
       "<table border=\"1\" class=\"dataframe\">\n",
       "  <thead>\n",
       "    <tr style=\"text-align: right;\">\n",
       "      <th></th>\n",
       "      <th>carat</th>\n",
       "      <th>price</th>\n",
       "      <th>clarity</th>\n",
       "      <th>color</th>\n",
       "      <th>culet</th>\n",
       "      <th>cut</th>\n",
       "      <th>fluorescence</th>\n",
       "      <th>polish</th>\n",
       "      <th>symmetry</th>\n",
       "    </tr>\n",
       "  </thead>\n",
       "  <tbody>\n",
       "    <tr>\n",
       "      <th>0</th>\n",
       "      <td>5.01</td>\n",
       "      <td>42001.0</td>\n",
       "      <td>SI2</td>\n",
       "      <td>K</td>\n",
       "      <td>None</td>\n",
       "      <td>Good</td>\n",
       "      <td>Strong</td>\n",
       "      <td>Excellent</td>\n",
       "      <td>Very Good</td>\n",
       "    </tr>\n",
       "    <tr>\n",
       "      <th>1</th>\n",
       "      <td>4.63</td>\n",
       "      <td>41019.0</td>\n",
       "      <td>SI2</td>\n",
       "      <td>K</td>\n",
       "      <td>Small</td>\n",
       "      <td>Good</td>\n",
       "      <td>Strong</td>\n",
       "      <td>Good</td>\n",
       "      <td>Good</td>\n",
       "    </tr>\n",
       "    <tr>\n",
       "      <th>2</th>\n",
       "      <td>2.01</td>\n",
       "      <td>7731.0</td>\n",
       "      <td>SI2</td>\n",
       "      <td>K</td>\n",
       "      <td>None</td>\n",
       "      <td>Good</td>\n",
       "      <td>None</td>\n",
       "      <td>Very Good</td>\n",
       "      <td>Very Good</td>\n",
       "    </tr>\n",
       "    <tr>\n",
       "      <th>3</th>\n",
       "      <td>1.65</td>\n",
       "      <td>6755.0</td>\n",
       "      <td>SI2</td>\n",
       "      <td>K</td>\n",
       "      <td>Very Small</td>\n",
       "      <td>Good</td>\n",
       "      <td>Medium</td>\n",
       "      <td>Good</td>\n",
       "      <td>Good</td>\n",
       "    </tr>\n",
       "    <tr>\n",
       "      <th>4</th>\n",
       "      <td>1.67</td>\n",
       "      <td>6156.0</td>\n",
       "      <td>SI2</td>\n",
       "      <td>K</td>\n",
       "      <td>None</td>\n",
       "      <td>Good</td>\n",
       "      <td>Medium</td>\n",
       "      <td>Very Good</td>\n",
       "      <td>Very Good</td>\n",
       "    </tr>\n",
       "  </tbody>\n",
       "</table>\n",
       "</div>"
      ],
      "text/plain": [
       "   carat    price clarity color       culet   cut fluorescence     polish  \\\n",
       "0   5.01  42001.0     SI2     K        None  Good       Strong  Excellent   \n",
       "1   4.63  41019.0     SI2     K       Small  Good       Strong       Good   \n",
       "2   2.01   7731.0     SI2     K        None  Good         None  Very Good   \n",
       "3   1.65   6755.0     SI2     K  Very Small  Good       Medium       Good   \n",
       "4   1.67   6156.0     SI2     K        None  Good       Medium  Very Good   \n",
       "\n",
       "    symmetry  \n",
       "0  Very Good  \n",
       "1       Good  \n",
       "2  Very Good  \n",
       "3       Good  \n",
       "4  Very Good  "
      ]
     },
     "execution_count": 382,
     "metadata": {},
     "output_type": "execute_result"
    }
   ],
   "source": [
    "diamond_df_filtered.head()"
   ]
  },
  {
   "cell_type": "code",
   "execution_count": 383,
   "metadata": {},
   "outputs": [],
   "source": [
    "ordinal_encoding = zip(ordinal_cols, ordinal_orders)\n",
    "for col, order in ordinal_encoding:\n",
    "    cat = pd.Categorical(diamond_df_filtered[col],\n",
    "                        categories=order,\n",
    "                        ordered=True)\n",
    "    labels, unique = pd.factorize(cat, sort=True)\n",
    "    diamond_df_filtered[col] = labels"
   ]
  },
  {
   "cell_type": "code",
   "execution_count": 385,
   "metadata": {},
   "outputs": [
    {
     "data": {
      "text/html": [
       "<div>\n",
       "<style scoped>\n",
       "    .dataframe tbody tr th:only-of-type {\n",
       "        vertical-align: middle;\n",
       "    }\n",
       "\n",
       "    .dataframe tbody tr th {\n",
       "        vertical-align: top;\n",
       "    }\n",
       "\n",
       "    .dataframe thead th {\n",
       "        text-align: right;\n",
       "    }\n",
       "</style>\n",
       "<table border=\"1\" class=\"dataframe\">\n",
       "  <thead>\n",
       "    <tr style=\"text-align: right;\">\n",
       "      <th></th>\n",
       "      <th>carat</th>\n",
       "      <th>price</th>\n",
       "      <th>clarity</th>\n",
       "      <th>color</th>\n",
       "      <th>culet</th>\n",
       "      <th>cut</th>\n",
       "      <th>fluorescence</th>\n",
       "      <th>polish</th>\n",
       "      <th>symmetry</th>\n",
       "    </tr>\n",
       "  </thead>\n",
       "  <tbody>\n",
       "    <tr>\n",
       "      <th>0</th>\n",
       "      <td>5.01</td>\n",
       "      <td>42001.0</td>\n",
       "      <td>0</td>\n",
       "      <td>0</td>\n",
       "      <td>4</td>\n",
       "      <td>1</td>\n",
       "      <td>1</td>\n",
       "      <td>3</td>\n",
       "      <td>2</td>\n",
       "    </tr>\n",
       "    <tr>\n",
       "      <th>1</th>\n",
       "      <td>4.63</td>\n",
       "      <td>41019.0</td>\n",
       "      <td>0</td>\n",
       "      <td>0</td>\n",
       "      <td>2</td>\n",
       "      <td>1</td>\n",
       "      <td>1</td>\n",
       "      <td>1</td>\n",
       "      <td>1</td>\n",
       "    </tr>\n",
       "    <tr>\n",
       "      <th>2</th>\n",
       "      <td>2.01</td>\n",
       "      <td>7731.0</td>\n",
       "      <td>0</td>\n",
       "      <td>0</td>\n",
       "      <td>4</td>\n",
       "      <td>1</td>\n",
       "      <td>5</td>\n",
       "      <td>2</td>\n",
       "      <td>2</td>\n",
       "    </tr>\n",
       "    <tr>\n",
       "      <th>3</th>\n",
       "      <td>1.65</td>\n",
       "      <td>6755.0</td>\n",
       "      <td>0</td>\n",
       "      <td>0</td>\n",
       "      <td>3</td>\n",
       "      <td>1</td>\n",
       "      <td>2</td>\n",
       "      <td>1</td>\n",
       "      <td>1</td>\n",
       "    </tr>\n",
       "    <tr>\n",
       "      <th>4</th>\n",
       "      <td>1.67</td>\n",
       "      <td>6156.0</td>\n",
       "      <td>0</td>\n",
       "      <td>0</td>\n",
       "      <td>4</td>\n",
       "      <td>1</td>\n",
       "      <td>2</td>\n",
       "      <td>2</td>\n",
       "      <td>2</td>\n",
       "    </tr>\n",
       "  </tbody>\n",
       "</table>\n",
       "</div>"
      ],
      "text/plain": [
       "   carat    price  clarity  color  culet  cut  fluorescence  polish  symmetry\n",
       "0   5.01  42001.0        0      0      4    1             1       3         2\n",
       "1   4.63  41019.0        0      0      2    1             1       1         1\n",
       "2   2.01   7731.0        0      0      4    1             5       2         2\n",
       "3   1.65   6755.0        0      0      3    1             2       1         1\n",
       "4   1.67   6156.0        0      0      4    1             2       2         2"
      ]
     },
     "execution_count": 385,
     "metadata": {},
     "output_type": "execute_result"
    }
   ],
   "source": [
    "diamond_df_filtered.head()"
   ]
  },
  {
   "cell_type": "code",
   "execution_count": 386,
   "metadata": {},
   "outputs": [],
   "source": [
    "diamond_df_encoded = diamond_df_filtered.copy()"
   ]
  },
  {
   "cell_type": "code",
   "execution_count": 387,
   "metadata": {},
   "outputs": [
    {
     "data": {
      "image/png": "[encoded data removed]",
      "text/plain": [
       "<Figure size 1440x1440 with 2 Axes>"
      ]
     },
     "metadata": {
      "needs_background": "light"
     },
     "output_type": "display_data"
    }
   ],
   "source": [
    "plt.figure(figsize=(20,20))\n",
    "p=sns.heatmap(diamond_df_encoded.corr(), annot=True,cmap='RdYlGn')"
   ]
  },
  {
   "cell_type": "code",
   "execution_count": 388,
   "metadata": {},
   "outputs": [],
   "source": [
    "X = diamond_df_encoded.drop(['price'],axis=1)\n",
    "y = diamond_df_encoded['price']"
   ]
  },
  {
   "cell_type": "code",
   "execution_count": 389,
   "metadata": {},
   "outputs": [],
   "source": [
    "X_train, X_test, y_train, y_test = train_test_split(X,y,test_size=0.2)"
   ]
  },
  {
   "cell_type": "code",
   "execution_count": 390,
   "metadata": {},
   "outputs": [
    {
     "name": "stdout",
     "output_type": "stream",
     "text": [
      "\n",
      "####### Linear Regression #######\n",
      "Score : 0.5496\n",
      "[0.53394173 0.58486161 0.517088   0.46904758 0.5367253 ]\n",
      "\n",
      "MSE    : 172350758.86 \n",
      "MAE    : 5574.70 \n",
      "RMSE   : 13128.24 \n",
      "R2     : 0.55 \n"
     ]
    },
    {
     "name": "stderr",
     "output_type": "stream",
     "text": [
      "[Parallel(n_jobs=1)]: Using backend SequentialBackend with 1 concurrent workers.\n",
      "[Parallel(n_jobs=1)]: Done   5 out of   5 | elapsed:    0.0s finished\n"
     ]
    }
   ],
   "source": [
    "clf_lr = LinearRegression()\n",
    "clf_lr.fit(X_train , y_train)\n",
    "accuracies = cross_val_score(estimator = clf_lr, X = X_train, y = y_train, cv = 5,verbose = 1)\n",
    "y_pred = clf_lr.predict(X_test)\n",
    "print('')\n",
    "print('####### Linear Regression #######')\n",
    "print('Score : %.4f' % clf_lr.score(X_test, y_test))\n",
    "print(accuracies)\n",
    "\n",
    "mse = mean_squared_error(y_test, y_pred)\n",
    "mae = mean_absolute_error(y_test, y_pred)\n",
    "rmse = mean_squared_error(y_test, y_pred)**0.5\n",
    "r2 = r2_score(y_test, y_pred)\n",
    "\n",
    "print('')\n",
    "print('MSE    : %0.2f ' % mse)\n",
    "print('MAE    : %0.2f ' % mae)\n",
    "print('RMSE   : %0.2f ' % rmse)\n",
    "print('R2     : %0.2f ' % r2)\n"
   ]
  },
  {
   "cell_type": "code",
   "execution_count": 401,
   "metadata": {},
   "outputs": [
    {
     "name": "stderr",
     "output_type": "stream",
     "text": [
      "[Parallel(n_jobs=1)]: Using backend SequentialBackend with 1 concurrent workers.\n",
      "[Parallel(n_jobs=1)]: Done   5 out of   5 | elapsed:  1.2min finished\n"
     ]
    },
    {
     "name": "stdout",
     "output_type": "stream",
     "text": [
      "\n",
      "###### Random Forest ######\n",
      "Score : 0.9448\n",
      "[0.98128471 0.9559787  0.90917414 0.91351711 0.92046436]\n",
      "\n",
      "MSE    : 21128126.06 \n",
      "MAE    : 601.88 \n",
      "RMSE   : 4596.53 \n",
      "MAPE   : 8.96 \n",
      "R2     : 0.94 \n"
     ]
    }
   ],
   "source": [
    "clf_rf = RandomForestRegressor()\n",
    "clf_rf.fit(X_train , y_train)\n",
    "accuracies = cross_val_score(estimator = clf_rf, X = X_train, y = y_train, cv = 5,verbose = 1)\n",
    "y_pred = clf_rf.predict(X_test)\n",
    "print('')\n",
    "print('###### Random Forest ######')\n",
    "print('Score : %.4f' % clf_rf.score(X_test, y_test))\n",
    "print(accuracies)\n",
    "\n",
    "mse = mean_squared_error(y_test, y_pred)\n",
    "mae = mean_absolute_error(y_test, y_pred)\n",
    "rmse = mean_squared_error(y_test, y_pred)**0.5\n",
    "mape = np.mean(np.abs((y_test - y_pred) / y_test)) * 100\n",
    "r2 = r2_score(y_test, y_pred)\n",
    "\n",
    "print('')\n",
    "print('MSE    : %0.2f ' % mse)\n",
    "print('MAE    : %0.2f ' % mae)\n",
    "print('RMSE   : %0.2f ' % rmse)\n",
    "print('MAPE   : %0.2f ' % mape)\n",
    "print('R2     : %0.2f ' % r2)"
   ]
  },
  {
   "cell_type": "code",
   "execution_count": 402,
   "metadata": {},
   "outputs": [
    {
     "name": "stdout",
     "output_type": "stream",
     "text": [
      "X=[0.4, 2, 4, 3, 2, 4, 2, 2], Predicted=854.9747142857145\n"
     ]
    }
   ],
   "source": [
    "# carat clarity color culet cut fluorescence polish symmetry\n",
    "# clarity_order = ['SI2', 'SI1', 'VS2', 'VS1', 'VVS2', 'VVS1', 'IF', 'FL']\n",
    "# color_order = ['K', 'J', 'I', 'H', 'G', 'F', 'E', 'D']\n",
    "# culet_order = ['Slightly Large', 'Medium', 'Small', 'Very Small', 'None']\n",
    "# cut_order = ['Fair', 'Good', 'Very Good', 'Ideal', 'Super Ideal']\n",
    "# fluorescence_order = ['Very Strong', 'Strong', 'Medium', 'Slight', 'Faint', 'None']\n",
    "# polish_order = ['Fair', 'Good', 'Very Good', 'Excellent']\n",
    "# symmetry_order = ['Fair', 'Good', 'Very Good', 'Excellent']\n",
    "\n",
    "\n",
    "Xnew = [[.4, clarity_order.index('VS2'), \n",
    "         color_order.index('G'), \n",
    "         culet_order.index('Very Small'), \n",
    "         cut_order.index('Very Good'), \n",
    "         fluorescence_order.index('Faint'), \n",
    "         polish_order.index('Very Good'), \n",
    "         symmetry_order.index('Very Good')]]\n",
    "\n",
    "# make a prediction\n",
    "ynew = clf_rf.predict(Xnew)\n",
    "print(\"X=%s, Predicted=%s\" % (Xnew[0], ynew[0]))"
   ]
  },
  {
   "cell_type": "code",
   "execution_count": null,
   "metadata": {},
   "outputs": [],
   "source": []
  }
 ],
 "metadata": {
  "kernelspec": {
   "display_name": "Python 3",
   "language": "python",
   "name": "python3"
  },
  "language_info": {
   "codemirror_mode": {
    "name": "ipython",
    "version": 3
   },
   "file_extension": ".py",
   "mimetype": "text/x-python",
   "name": "python",
   "nbconvert_exporter": "python",
   "pygments_lexer": "ipython3",
   "version": "3.7.6"
  }
 },
 "nbformat": 4,
 "nbformat_minor": 4
}
